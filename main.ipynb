{
 "cells": [
  {
   "cell_type": "code",
   "execution_count": 1,
   "id": "7d97d9bd",
   "metadata": {},
   "outputs": [],
   "source": [
    "import numpy as np\n",
    "import pandas as pd\n",
    "import seaborn as sns\n",
    "import matplotlib.pyplot as plt\n",
    "from sklearn import metrics\n",
    "from sklearn.model_selection import train_test_split\n",
    "from sklearn.linear_model import LogisticRegression, LinearRegression\n",
    "from sklearn.pipeline import make_pipeline\n",
    "from sklearn.preprocessing import StandardScaler\n",
    "from sklearn.svm import SVC\n"
   ]
  },
  {
   "cell_type": "code",
   "execution_count": 2,
   "metadata": {},
   "outputs": [
    {
     "data": {
      "text/html": [
       "<div>\n",
       "<style scoped>\n",
       "    .dataframe tbody tr th:only-of-type {\n",
       "        vertical-align: middle;\n",
       "    }\n",
       "\n",
       "    .dataframe tbody tr th {\n",
       "        vertical-align: top;\n",
       "    }\n",
       "\n",
       "    .dataframe thead th {\n",
       "        text-align: right;\n",
       "    }\n",
       "</style>\n",
       "<table border=\"1\" class=\"dataframe\">\n",
       "  <thead>\n",
       "    <tr style=\"text-align: right;\">\n",
       "      <th></th>\n",
       "      <th>Date</th>\n",
       "      <th>Open</th>\n",
       "      <th>High</th>\n",
       "      <th>Low</th>\n",
       "      <th>Close</th>\n",
       "      <th>Adj Close</th>\n",
       "      <th>Volume</th>\n",
       "    </tr>\n",
       "  </thead>\n",
       "  <tbody>\n",
       "    <tr>\n",
       "      <th>0</th>\n",
       "      <td>2007-09-18</td>\n",
       "      <td>10.45</td>\n",
       "      <td>10.45</td>\n",
       "      <td>10.45</td>\n",
       "      <td>10.45</td>\n",
       "      <td>8.344547</td>\n",
       "      <td>0</td>\n",
       "    </tr>\n",
       "    <tr>\n",
       "      <th>1</th>\n",
       "      <td>2007-09-19</td>\n",
       "      <td>10.80</td>\n",
       "      <td>10.80</td>\n",
       "      <td>10.80</td>\n",
       "      <td>10.80</td>\n",
       "      <td>8.624030</td>\n",
       "      <td>1000</td>\n",
       "    </tr>\n",
       "    <tr>\n",
       "      <th>2</th>\n",
       "      <td>2007-09-20</td>\n",
       "      <td>10.35</td>\n",
       "      <td>10.75</td>\n",
       "      <td>10.35</td>\n",
       "      <td>10.35</td>\n",
       "      <td>8.264695</td>\n",
       "      <td>2200</td>\n",
       "    </tr>\n",
       "    <tr>\n",
       "      <th>3</th>\n",
       "      <td>2007-09-21</td>\n",
       "      <td>10.75</td>\n",
       "      <td>10.75</td>\n",
       "      <td>10.75</td>\n",
       "      <td>10.75</td>\n",
       "      <td>8.584105</td>\n",
       "      <td>500</td>\n",
       "    </tr>\n",
       "    <tr>\n",
       "      <th>4</th>\n",
       "      <td>2007-09-24</td>\n",
       "      <td>10.75</td>\n",
       "      <td>10.75</td>\n",
       "      <td>10.75</td>\n",
       "      <td>10.75</td>\n",
       "      <td>8.584105</td>\n",
       "      <td>0</td>\n",
       "    </tr>\n",
       "  </tbody>\n",
       "</table>\n",
       "</div>"
      ],
      "text/plain": [
       "         Date   Open   High    Low  Close  Adj Close  Volume\n",
       "0  2007-09-18  10.45  10.45  10.45  10.45   8.344547       0\n",
       "1  2007-09-19  10.80  10.80  10.80  10.80   8.624030    1000\n",
       "2  2007-09-20  10.35  10.75  10.35  10.35   8.264695    2200\n",
       "3  2007-09-21  10.75  10.75  10.75  10.75   8.584105     500\n",
       "4  2007-09-24  10.75  10.75  10.75  10.75   8.584105       0"
      ]
     },
     "execution_count": 2,
     "metadata": {},
     "output_type": "execute_result"
    }
   ],
   "source": [
    "#importing the data into a dataframe\n",
    "df = pd.read_csv('JSEJF.csv')\n",
    "df.head()"
   ]
  },
  {
   "cell_type": "code",
   "execution_count": 3,
   "metadata": {},
   "outputs": [
    {
     "data": {
      "image/png": "[encoded data removed]",
      "text/plain": [
       "<Figure size 432x288 with 1 Axes>"
      ]
     },
     "metadata": {
      "needs_background": "light"
     },
     "output_type": "display_data"
    }
   ],
   "source": [
    "#plotting change in the close feature through time\n",
    "plt.plot(df['Date'], df['Close'])\n",
    "plt.ylabel(\"Close Price\")\n",
    "plt.xlabel(\"Date\")\n",
    "plt.title(\"Time Series plot of change in closing price over time\")\n",
    "plt.show()"
   ]
  },
  {
   "cell_type": "code",
   "execution_count": 4,
   "metadata": {},
   "outputs": [],
   "source": [
    "#Adding a feature of difference between concequent closing features\n",
    "diff = [0]\n",
    "close = df['Close']\n",
    "for i in range(len(close)-1):\n",
    "    dif = close.iloc[i+1] - close.iloc[i]\n",
    "    diff.append(dif)\n",
    "df['Difference Close'] = diff"
   ]
  },
  {
   "cell_type": "code",
   "execution_count": 5,
   "metadata": {},
   "outputs": [
    {
     "data": {
      "text/html": [
       "<div>\n",
       "<style scoped>\n",
       "    .dataframe tbody tr th:only-of-type {\n",
       "        vertical-align: middle;\n",
       "    }\n",
       "\n",
       "    .dataframe tbody tr th {\n",
       "        vertical-align: top;\n",
       "    }\n",
       "\n",
       "    .dataframe thead th {\n",
       "        text-align: right;\n",
       "    }\n",
       "</style>\n",
       "<table border=\"1\" class=\"dataframe\">\n",
       "  <thead>\n",
       "    <tr style=\"text-align: right;\">\n",
       "      <th></th>\n",
       "      <th>Open</th>\n",
       "      <th>High</th>\n",
       "      <th>Low</th>\n",
       "      <th>Close</th>\n",
       "      <th>Adj Close</th>\n",
       "      <th>Volume</th>\n",
       "      <th>Difference Close</th>\n",
       "    </tr>\n",
       "  </thead>\n",
       "  <tbody>\n",
       "    <tr>\n",
       "      <th>count</th>\n",
       "      <td>3555.000000</td>\n",
       "      <td>3555.000000</td>\n",
       "      <td>3555.000000</td>\n",
       "      <td>3555.000000</td>\n",
       "      <td>3555.000000</td>\n",
       "      <td>3555.000000</td>\n",
       "      <td>3555.000000</td>\n",
       "    </tr>\n",
       "    <tr>\n",
       "      <th>mean</th>\n",
       "      <td>9.284934</td>\n",
       "      <td>9.309648</td>\n",
       "      <td>9.263693</td>\n",
       "      <td>9.284087</td>\n",
       "      <td>7.672125</td>\n",
       "      <td>1839.296765</td>\n",
       "      <td>-0.000925</td>\n",
       "    </tr>\n",
       "    <tr>\n",
       "      <th>std</th>\n",
       "      <td>2.291487</td>\n",
       "      <td>2.290451</td>\n",
       "      <td>2.296882</td>\n",
       "      <td>2.292897</td>\n",
       "      <td>1.896114</td>\n",
       "      <td>8386.584878</td>\n",
       "      <td>0.244725</td>\n",
       "    </tr>\n",
       "    <tr>\n",
       "      <th>min</th>\n",
       "      <td>3.200000</td>\n",
       "      <td>3.200000</td>\n",
       "      <td>3.200000</td>\n",
       "      <td>3.200000</td>\n",
       "      <td>2.555268</td>\n",
       "      <td>0.000000</td>\n",
       "      <td>-5.230000</td>\n",
       "    </tr>\n",
       "    <tr>\n",
       "      <th>25%</th>\n",
       "      <td>7.960000</td>\n",
       "      <td>7.990000</td>\n",
       "      <td>7.950000</td>\n",
       "      <td>7.950000</td>\n",
       "      <td>6.643698</td>\n",
       "      <td>0.000000</td>\n",
       "      <td>0.000000</td>\n",
       "    </tr>\n",
       "    <tr>\n",
       "      <th>50%</th>\n",
       "      <td>9.080000</td>\n",
       "      <td>9.100000</td>\n",
       "      <td>9.060000</td>\n",
       "      <td>9.070000</td>\n",
       "      <td>7.500000</td>\n",
       "      <td>0.000000</td>\n",
       "      <td>0.000000</td>\n",
       "    </tr>\n",
       "    <tr>\n",
       "      <th>75%</th>\n",
       "      <td>10.500000</td>\n",
       "      <td>10.500000</td>\n",
       "      <td>10.500000</td>\n",
       "      <td>10.500000</td>\n",
       "      <td>8.544178</td>\n",
       "      <td>1000.000000</td>\n",
       "      <td>0.000000</td>\n",
       "    </tr>\n",
       "    <tr>\n",
       "      <th>max</th>\n",
       "      <td>17.600000</td>\n",
       "      <td>18.350000</td>\n",
       "      <td>17.379999</td>\n",
       "      <td>17.379999</td>\n",
       "      <td>14.445863</td>\n",
       "      <td>186400.000000</td>\n",
       "      <td>1.500000</td>\n",
       "    </tr>\n",
       "  </tbody>\n",
       "</table>\n",
       "</div>"
      ],
      "text/plain": [
       "              Open         High          Low        Close    Adj Close  \\\n",
       "count  3555.000000  3555.000000  3555.000000  3555.000000  3555.000000   \n",
       "mean      9.284934     9.309648     9.263693     9.284087     7.672125   \n",
       "std       2.291487     2.290451     2.296882     2.292897     1.896114   \n",
       "min       3.200000     3.200000     3.200000     3.200000     2.555268   \n",
       "25%       7.960000     7.990000     7.950000     7.950000     6.643698   \n",
       "50%       9.080000     9.100000     9.060000     9.070000     7.500000   \n",
       "75%      10.500000    10.500000    10.500000    10.500000     8.544178   \n",
       "max      17.600000    18.350000    17.379999    17.379999    14.445863   \n",
       "\n",
       "              Volume  Difference Close  \n",
       "count    3555.000000       3555.000000  \n",
       "mean     1839.296765         -0.000925  \n",
       "std      8386.584878          0.244725  \n",
       "min         0.000000         -5.230000  \n",
       "25%         0.000000          0.000000  \n",
       "50%         0.000000          0.000000  \n",
       "75%      1000.000000          0.000000  \n",
       "max    186400.000000          1.500000  "
      ]
     },
     "execution_count": 5,
     "metadata": {},
     "output_type": "execute_result"
    }
   ],
   "source": [
    "df.describe()"
   ]
  },
  {
   "cell_type": "code",
   "execution_count": 6,
   "metadata": {},
   "outputs": [],
   "source": [
    "\"\"\" Adding the difference labels for categorical classification. For thresholds we used the \n",
    "    percentiels of the data we received from the df.describe() function\"\"\"\n",
    "diff_labels = []\n",
    "for d in diff:\n",
    "    if d <= -0.18:\n",
    "        diff_labels.append(\"Very Low\")\n",
    "    elif d > -0.18 and d < 0:\n",
    "        diff_labels.append(\"Low\")\n",
    "    elif d == 0:\n",
    "        diff_labels.append(\"Stationary\")\n",
    "    elif d > 0 and d <=0.19:\n",
    "        diff_labels.append(\"High\")\n",
    "    elif d > 0.19:\n",
    "        diff_labels.append(\"Very High\")\n",
    "df[\"Difference Close Labels\"] = diff_labels"
   ]
  },
  {
   "cell_type": "code",
   "execution_count": 7,
   "metadata": {},
   "outputs": [
    {
     "data": {
      "text/html": [
       "<div>\n",
       "<style scoped>\n",
       "    .dataframe tbody tr th:only-of-type {\n",
       "        vertical-align: middle;\n",
       "    }\n",
       "\n",
       "    .dataframe tbody tr th {\n",
       "        vertical-align: top;\n",
       "    }\n",
       "\n",
       "    .dataframe thead th {\n",
       "        text-align: right;\n",
       "    }\n",
       "</style>\n",
       "<table border=\"1\" class=\"dataframe\">\n",
       "  <thead>\n",
       "    <tr style=\"text-align: right;\">\n",
       "      <th></th>\n",
       "      <th>Date</th>\n",
       "      <th>Open</th>\n",
       "      <th>High</th>\n",
       "      <th>Low</th>\n",
       "      <th>Close</th>\n",
       "      <th>Adj Close</th>\n",
       "      <th>Volume</th>\n",
       "      <th>Difference Close</th>\n",
       "      <th>Difference Close Labels</th>\n",
       "    </tr>\n",
       "  </thead>\n",
       "  <tbody>\n",
       "    <tr>\n",
       "      <th>0</th>\n",
       "      <td>2007-09-18</td>\n",
       "      <td>10.45</td>\n",
       "      <td>10.45</td>\n",
       "      <td>10.45</td>\n",
       "      <td>10.45</td>\n",
       "      <td>8.344547</td>\n",
       "      <td>0</td>\n",
       "      <td>0.00</td>\n",
       "      <td>Stationary</td>\n",
       "    </tr>\n",
       "    <tr>\n",
       "      <th>1</th>\n",
       "      <td>2007-09-19</td>\n",
       "      <td>10.80</td>\n",
       "      <td>10.80</td>\n",
       "      <td>10.80</td>\n",
       "      <td>10.80</td>\n",
       "      <td>8.624030</td>\n",
       "      <td>1000</td>\n",
       "      <td>0.35</td>\n",
       "      <td>Very High</td>\n",
       "    </tr>\n",
       "    <tr>\n",
       "      <th>2</th>\n",
       "      <td>2007-09-20</td>\n",
       "      <td>10.35</td>\n",
       "      <td>10.75</td>\n",
       "      <td>10.35</td>\n",
       "      <td>10.35</td>\n",
       "      <td>8.264695</td>\n",
       "      <td>2200</td>\n",
       "      <td>-0.45</td>\n",
       "      <td>Very Low</td>\n",
       "    </tr>\n",
       "    <tr>\n",
       "      <th>3</th>\n",
       "      <td>2007-09-21</td>\n",
       "      <td>10.75</td>\n",
       "      <td>10.75</td>\n",
       "      <td>10.75</td>\n",
       "      <td>10.75</td>\n",
       "      <td>8.584105</td>\n",
       "      <td>500</td>\n",
       "      <td>0.40</td>\n",
       "      <td>Very High</td>\n",
       "    </tr>\n",
       "    <tr>\n",
       "      <th>4</th>\n",
       "      <td>2007-09-24</td>\n",
       "      <td>10.75</td>\n",
       "      <td>10.75</td>\n",
       "      <td>10.75</td>\n",
       "      <td>10.75</td>\n",
       "      <td>8.584105</td>\n",
       "      <td>0</td>\n",
       "      <td>0.00</td>\n",
       "      <td>Stationary</td>\n",
       "    </tr>\n",
       "  </tbody>\n",
       "</table>\n",
       "</div>"
      ],
      "text/plain": [
       "         Date   Open   High    Low  Close  Adj Close  Volume  \\\n",
       "0  2007-09-18  10.45  10.45  10.45  10.45   8.344547       0   \n",
       "1  2007-09-19  10.80  10.80  10.80  10.80   8.624030    1000   \n",
       "2  2007-09-20  10.35  10.75  10.35  10.35   8.264695    2200   \n",
       "3  2007-09-21  10.75  10.75  10.75  10.75   8.584105     500   \n",
       "4  2007-09-24  10.75  10.75  10.75  10.75   8.584105       0   \n",
       "\n",
       "   Difference Close Difference Close Labels  \n",
       "0              0.00              Stationary  \n",
       "1              0.35               Very High  \n",
       "2             -0.45                Very Low  \n",
       "3              0.40               Very High  \n",
       "4              0.00              Stationary  "
      ]
     },
     "execution_count": 7,
     "metadata": {},
     "output_type": "execute_result"
    }
   ],
   "source": [
    "df.head()"
   ]
  },
  {
   "cell_type": "code",
   "execution_count": 8,
   "metadata": {},
   "outputs": [
    {
     "data": {
      "image/png": "[encoded data removed]",
      "text/plain": [
       "<Figure size 432x288 with 1 Axes>"
      ]
     },
     "metadata": {
      "needs_background": "light"
     },
     "output_type": "display_data"
    }
   ],
   "source": [
    "plt.bar(df['Difference Close Labels'], df['Date'])\n",
    "plt.show()"
   ]
  },
  {
   "cell_type": "code",
   "execution_count": 9,
   "metadata": {},
   "outputs": [
    {
     "data": {
      "text/html": [
       "<div>\n",
       "<style scoped>\n",
       "    .dataframe tbody tr th:only-of-type {\n",
       "        vertical-align: middle;\n",
       "    }\n",
       "\n",
       "    .dataframe tbody tr th {\n",
       "        vertical-align: top;\n",
       "    }\n",
       "\n",
       "    .dataframe thead th {\n",
       "        text-align: right;\n",
       "    }\n",
       "</style>\n",
       "<table border=\"1\" class=\"dataframe\">\n",
       "  <thead>\n",
       "    <tr style=\"text-align: right;\">\n",
       "      <th></th>\n",
       "      <th>Date</th>\n",
       "      <th>Open</th>\n",
       "      <th>High</th>\n",
       "      <th>Low</th>\n",
       "      <th>Close</th>\n",
       "      <th>Adj Close</th>\n",
       "      <th>Volume</th>\n",
       "      <th>Difference Close</th>\n",
       "      <th>Difference Close Labels</th>\n",
       "      <th>Difference ADJ Close Labels</th>\n",
       "    </tr>\n",
       "  </thead>\n",
       "  <tbody>\n",
       "    <tr>\n",
       "      <th>0</th>\n",
       "      <td>2007-09-18</td>\n",
       "      <td>10.45</td>\n",
       "      <td>10.45</td>\n",
       "      <td>10.45</td>\n",
       "      <td>10.45</td>\n",
       "      <td>8.344547</td>\n",
       "      <td>0</td>\n",
       "      <td>0.00</td>\n",
       "      <td>Stationary</td>\n",
       "      <td>Stationary</td>\n",
       "    </tr>\n",
       "    <tr>\n",
       "      <th>1</th>\n",
       "      <td>2007-09-19</td>\n",
       "      <td>10.80</td>\n",
       "      <td>10.80</td>\n",
       "      <td>10.80</td>\n",
       "      <td>10.80</td>\n",
       "      <td>8.624030</td>\n",
       "      <td>1000</td>\n",
       "      <td>0.35</td>\n",
       "      <td>Very High</td>\n",
       "      <td>Very High</td>\n",
       "    </tr>\n",
       "    <tr>\n",
       "      <th>2</th>\n",
       "      <td>2007-09-20</td>\n",
       "      <td>10.35</td>\n",
       "      <td>10.75</td>\n",
       "      <td>10.35</td>\n",
       "      <td>10.35</td>\n",
       "      <td>8.264695</td>\n",
       "      <td>2200</td>\n",
       "      <td>-0.45</td>\n",
       "      <td>Very Low</td>\n",
       "      <td>Very Low</td>\n",
       "    </tr>\n",
       "    <tr>\n",
       "      <th>3</th>\n",
       "      <td>2007-09-21</td>\n",
       "      <td>10.75</td>\n",
       "      <td>10.75</td>\n",
       "      <td>10.75</td>\n",
       "      <td>10.75</td>\n",
       "      <td>8.584105</td>\n",
       "      <td>500</td>\n",
       "      <td>0.40</td>\n",
       "      <td>Very High</td>\n",
       "      <td>Very High</td>\n",
       "    </tr>\n",
       "    <tr>\n",
       "      <th>4</th>\n",
       "      <td>2007-09-24</td>\n",
       "      <td>10.75</td>\n",
       "      <td>10.75</td>\n",
       "      <td>10.75</td>\n",
       "      <td>10.75</td>\n",
       "      <td>8.584105</td>\n",
       "      <td>0</td>\n",
       "      <td>0.00</td>\n",
       "      <td>Stationary</td>\n",
       "      <td>Stationary</td>\n",
       "    </tr>\n",
       "  </tbody>\n",
       "</table>\n",
       "</div>"
      ],
      "text/plain": [
       "         Date   Open   High    Low  Close  Adj Close  Volume  \\\n",
       "0  2007-09-18  10.45  10.45  10.45  10.45   8.344547       0   \n",
       "1  2007-09-19  10.80  10.80  10.80  10.80   8.624030    1000   \n",
       "2  2007-09-20  10.35  10.75  10.35  10.35   8.264695    2200   \n",
       "3  2007-09-21  10.75  10.75  10.75  10.75   8.584105     500   \n",
       "4  2007-09-24  10.75  10.75  10.75  10.75   8.584105       0   \n",
       "\n",
       "   Difference Close Difference Close Labels Difference ADJ Close Labels  \n",
       "0              0.00              Stationary                  Stationary  \n",
       "1              0.35               Very High                   Very High  \n",
       "2             -0.45                Very Low                    Very Low  \n",
       "3              0.40               Very High                   Very High  \n",
       "4              0.00              Stationary                  Stationary  "
      ]
     },
     "execution_count": 9,
     "metadata": {},
     "output_type": "execute_result"
    }
   ],
   "source": [
    "\"\"\"Created another couple of categorical features based on the adjusted close feature to \n",
    "check if there is a differnce in predicting the different features\"\"\"\n",
    "diff = ['Stationary']\n",
    "close = df['Adj Close']\n",
    "for i in range(len(close)-1):\n",
    "    dif = close.iloc[i+1] - close.iloc[i]\n",
    "    if dif <= -0.144:\n",
    "        diff.append('Very Low')\n",
    "    elif dif > -0.144 and dif < 0:\n",
    "        diff.append(\"Low\")\n",
    "    elif dif == 0:\n",
    "        diff.append(\"Stationary\")\n",
    "    elif dif > 0 and dif <= 0.16:\n",
    "        diff.append(\"High\")\n",
    "    elif dif > 0.16:\n",
    "        diff.append(\"Very High\")\n",
    "df['Difference ADJ Close Labels'] = diff\n",
    "df.head()"
   ]
  },
  {
   "cell_type": "code",
   "execution_count": 10,
   "metadata": {},
   "outputs": [
    {
     "data": {
      "text/plain": [
       "True"
      ]
     },
     "execution_count": 10,
     "metadata": {},
     "output_type": "execute_result"
    }
   ],
   "source": [
    "list(df['Difference Close Labels'] == df['Difference ADJ Close Labels']).__contains__(False)\n",
    "#Labels based on Adjusted Close are different than those got from non-adjusted close. \n",
    "#We will use the adjusted labels"
   ]
  },
  {
   "cell_type": "code",
   "execution_count": 11,
   "metadata": {},
   "outputs": [
    {
     "data": {
      "text/plain": [
       "(3555, 5)"
      ]
     },
     "execution_count": 11,
     "metadata": {},
     "output_type": "execute_result"
    }
   ],
   "source": [
    "#Feature and Target division\n",
    "X = df[['Open', 'High', 'Low', 'Volume', 'Date']]\n",
    "y = df['Difference ADJ Close Labels']\n",
    "y_sub = df[['Close', 'Difference ADJ Close Labels']]\n",
    "X.shape"
   ]
  },
  {
   "cell_type": "code",
   "execution_count": 12,
   "metadata": {},
   "outputs": [],
   "source": [
    "#Train-Test splits on the data\n",
    "X_train_sub, X_test_sub, y_train_sub, y_test_sub = train_test_split(X, y_sub, test_size=0.2, shuffle=False, random_state=0)"
   ]
  },
  {
   "cell_type": "code",
   "execution_count": 13,
   "metadata": {},
   "outputs": [],
   "source": [
    "X_train = X_train_sub.drop('Date', axis=1)\n",
    "X_test = X_test_sub.drop('Date', axis=1)\n",
    "y_train_label = y_train_sub.drop('Close', axis=1)\n",
    "y_train = y_train_sub.drop('Difference ADJ Close Labels', axis=1)\n",
    "y_test_label = y_test_sub.drop('Close', axis=1)\n",
    "y_test = y_test_sub.drop('Difference ADJ Close Labels', axis=1)"
   ]
  },
  {
   "cell_type": "code",
   "execution_count": 14,
   "metadata": {},
   "outputs": [
    {
     "name": "stdout",
     "output_type": "stream",
     "text": [
      "(2844, 4)\n",
      "(711, 4)\n",
      "(2844, 1)\n",
      "(711, 1)\n"
     ]
    }
   ],
   "source": [
    "print(X_train.shape)\n",
    "print(X_test.shape)\n",
    "print(y_train.shape)\n",
    "print(y_test.shape)"
   ]
  },
  {
   "cell_type": "code",
   "execution_count": 15,
   "metadata": {},
   "outputs": [
    {
     "data": {
      "text/plain": [
       "0.9956952861356362"
      ]
     },
     "execution_count": 15,
     "metadata": {},
     "output_type": "execute_result"
    }
   ],
   "source": [
    "#Linear regression on numerical close feature\n",
    "clf = LinearRegression().fit(X_train[:-1], y_train[1:])\n",
    "y_pred = clf.predict(X_test)\n",
    "#metrics.mean_squared_error(y_test, y_pred)\n",
    "metrics.r2_score(y_test, y_pred)"
   ]
  },
  {
   "cell_type": "code",
   "execution_count": 16,
   "metadata": {},
   "outputs": [],
   "source": [
    "#Labels from predicted values\n",
    "y_pred_label = ['High']\n",
    "for i in range(len(y_pred)-1):\n",
    "    dif = y_pred[i+1] - y_pred[i]\n",
    "    if dif <= -0.144:\n",
    "        y_pred_label.append('Very Low')\n",
    "    elif dif > -0.144 and dif < 0:\n",
    "        y_pred_label.append(\"Low\")\n",
    "    elif dif == 0:\n",
    "        y_pred_label.append('Stationary')\n",
    "    elif dif > 0 and dif <= 0.16:\n",
    "        y_pred_label.append(\"High\")\n",
    "    elif dif > 0.16:\n",
    "        y_pred_label.append(\"Very High\")\n",
    "Linear_regression_prediction = y_pred_label"
   ]
  },
  {
   "cell_type": "code",
   "execution_count": 17,
   "metadata": {},
   "outputs": [
    {
     "data": {
      "text/plain": [
       "0.5921237693389592"
      ]
     },
     "execution_count": 17,
     "metadata": {},
     "output_type": "execute_result"
    }
   ],
   "source": [
    "#accuracy of Logistic regression on predicting the labels\n",
    "correct = 0\n",
    "for i, j in zip(y_pred_label, y_test_label['Difference ADJ Close Labels']):\n",
    "    if i==j:\n",
    "        correct+=1\n",
    "linear_transformed_acc = correct/len(y_pred_label)\n",
    "linear_transformed_acc"
   ]
  },
  {
   "cell_type": "code",
   "execution_count": 18,
   "metadata": {},
   "outputs": [
    {
     "name": "stderr",
     "output_type": "stream",
     "text": [
      "c:\\Users\\Hp\\AppData\\Local\\Programs\\Python\\Python39\\lib\\site-packages\\sklearn\\utils\\validation.py:1111: DataConversionWarning: A column-vector y was passed when a 1d array was expected. Please change the shape of y to (n_samples, ), for example using ravel().\n",
      "  y = column_or_1d(y, warn=True)\n"
     ]
    }
   ],
   "source": [
    "#SVM Classifier on categorical feauture\n",
    "clf = make_pipeline(StandardScaler(), SVC(gamma='auto'))\n",
    "clf.fit(X_train, y_train_label)\n",
    "y_pre = clf.predict(X_test)\n",
    "SVM_Prediction = y_pre"
   ]
  },
  {
   "cell_type": "code",
   "execution_count": 19,
   "metadata": {},
   "outputs": [
    {
     "name": "stdout",
     "output_type": "stream",
     "text": [
      "0.0\n"
     ]
    }
   ],
   "source": [
    "#Categorical Accuracy of the SVM Model\n",
    "correct = 0\n",
    "for i, j in zip(y_pre, y_test_label):\n",
    "    if i==j:\n",
    "        correct+=1\n",
    "print(correct/len(y_pre))"
   ]
  },
  {
   "cell_type": "code",
   "execution_count": 20,
   "metadata": {},
   "outputs": [
    {
     "name": "stderr",
     "output_type": "stream",
     "text": [
      "c:\\Users\\Hp\\AppData\\Local\\Programs\\Python\\Python39\\lib\\site-packages\\sklearn\\utils\\validation.py:1111: DataConversionWarning: A column-vector y was passed when a 1d array was expected. Please change the shape of y to (n_samples, ), for example using ravel().\n",
      "  y = column_or_1d(y, warn=True)\n"
     ]
    }
   ],
   "source": [
    "#Logistic Regression for categorical classification\n",
    "clf = LogisticRegression(random_state=0).fit(X_train, y_train_label)\n",
    "y_p = clf.predict(X_test)\n",
    "Logistic_Regression_prediction = y_p"
   ]
  },
  {
   "cell_type": "code",
   "execution_count": 21,
   "metadata": {},
   "outputs": [
    {
     "name": "stdout",
     "output_type": "stream",
     "text": [
      "0.0\n"
     ]
    }
   ],
   "source": [
    "#Accuracy of Logistic Regression on categorical classification\n",
    "correct = 0\n",
    "for i, j in zip(y_p, y_test_label):\n",
    "    if i==j:\n",
    "        correct+=1\n",
    "print(correct/len(y_pre))"
   ]
  },
  {
   "cell_type": "code",
   "execution_count": 22,
   "metadata": {},
   "outputs": [
    {
     "data": {
      "image/png": "[encoded data removed]",
      "text/plain": [
       "<Figure size 432x288 with 1 Axes>"
      ]
     },
     "metadata": {
      "needs_background": "light"
     },
     "output_type": "display_data"
    }
   ],
   "source": [
    "labels = [\"true\", \"SVM\", \"LO R\", \"LI R\"]\n",
    "plt.plot(X_test_sub['Date'][:10], y_test_label['Difference ADJ Close Labels'][:10])\n",
    "plt.plot(X_test_sub['Date'][:10], SVM_Prediction[:10])\n",
    "plt.plot(X_test_sub['Date'][:10], Logistic_Regression_prediction[:10])\n",
    "plt.plot(X_test_sub['Date'][:10], Linear_regression_prediction[:10])\n",
    "plt.legend(labels)\n",
    "plt.xlabel(\"Date\")\n",
    "plt.ylabel(\"Class\")\n",
    "plt.title(\"Comparision between the three models and the actual targets\")\n",
    "plt.show()"
   ]
  },
  {
   "cell_type": "markdown",
   "id": "30a05ee6",
   "metadata": {},
   "source": [
    "# Marokv Chain Helper Functions"
   ]
  },
  {
   "cell_type": "code",
   "execution_count": 23,
   "id": "af183696",
   "metadata": {},
   "outputs": [],
   "source": [
    "# Getting the transition matrix, maps sequences to target market mobility\n",
    "def get_transition_matrix(df):\n",
    "    sequences = df['Sequences']\n",
    "    targets = df['Difference ADJ Close Labels']\n",
    "    target_set = list(set(targets))\n",
    "    transitions = {}\n",
    "    for seq in sequences:\n",
    "        transitions[seq] = {}\n",
    "    for seq in sequences:\n",
    "        for target in target_set:\n",
    "            transitions[seq][target] = 0\n",
    "    for seq, target in zip(sequences, targets):\n",
    "        transitions[seq][target] += 1/len(targets)\n",
    "    return transitions\n"
   ]
  },
  {
   "cell_type": "code",
   "execution_count": 25,
   "id": "876aa4a5",
   "metadata": {},
   "outputs": [],
   "source": [
    "## Use the transition matrix to predict the current label based on the \n",
    "import random\n",
    "\n",
    "def predict (df, transitions):\n",
    "    sequences = df['Sequences']\n",
    "    predicted_results = []\n",
    "    for seq in sequences:\n",
    "        probs = list(transitions[seq].values())\n",
    "        labels = list(transitions[seq].keys())\n",
    "        choice = random.choices(labels, probs, k=1)\n",
    "        predicted_results.append(choice[0])\n",
    "    return predicted_results\n",
    "        "
   ]
  },
  {
   "cell_type": "code",
   "execution_count": 26,
   "id": "63711c18",
   "metadata": {},
   "outputs": [],
   "source": [
    "## Encoding each label for transitions\n",
    "\n",
    "def get_code(label):\n",
    "    if label == 'Very Low':\n",
    "        code = 'VL'\n",
    "    elif label == 'Low':\n",
    "        code = 'L'\n",
    "    elif label == 'Stationary':\n",
    "        code = 'S'\n",
    "    elif label == 'High':\n",
    "        code = 'H'\n",
    "    elif label == 'Very High':\n",
    "        code = 'VH'\n",
    "    return code"
   ]
  },
  {
   "cell_type": "markdown",
   "id": "94910bf6",
   "metadata": {},
   "source": [
    "# 1-steps back Markov Chain"
   ]
  },
  {
   "cell_type": "code",
   "execution_count": 27,
   "id": "47c5d4c0",
   "metadata": {},
   "outputs": [
    {
     "data": {
      "text/html": [
       "<div>\n",
       "<style scoped>\n",
       "    .dataframe tbody tr th:only-of-type {\n",
       "        vertical-align: middle;\n",
       "    }\n",
       "\n",
       "    .dataframe tbody tr th {\n",
       "        vertical-align: top;\n",
       "    }\n",
       "\n",
       "    .dataframe thead th {\n",
       "        text-align: right;\n",
       "    }\n",
       "</style>\n",
       "<table border=\"1\" class=\"dataframe\">\n",
       "  <thead>\n",
       "    <tr style=\"text-align: right;\">\n",
       "      <th></th>\n",
       "      <th>Date</th>\n",
       "      <th>Open</th>\n",
       "      <th>High</th>\n",
       "      <th>Low</th>\n",
       "      <th>Close</th>\n",
       "      <th>Adj Close</th>\n",
       "      <th>Volume</th>\n",
       "      <th>Difference Close</th>\n",
       "      <th>Difference Close Labels</th>\n",
       "      <th>Difference ADJ Close Labels</th>\n",
       "      <th>Sequences</th>\n",
       "    </tr>\n",
       "  </thead>\n",
       "  <tbody>\n",
       "    <tr>\n",
       "      <th>1</th>\n",
       "      <td>2007-09-19</td>\n",
       "      <td>10.80</td>\n",
       "      <td>10.80</td>\n",
       "      <td>10.80</td>\n",
       "      <td>10.80</td>\n",
       "      <td>8.624030</td>\n",
       "      <td>1000</td>\n",
       "      <td>0.35</td>\n",
       "      <td>Very High</td>\n",
       "      <td>Very High</td>\n",
       "      <td>S</td>\n",
       "    </tr>\n",
       "    <tr>\n",
       "      <th>2</th>\n",
       "      <td>2007-09-20</td>\n",
       "      <td>10.35</td>\n",
       "      <td>10.75</td>\n",
       "      <td>10.35</td>\n",
       "      <td>10.35</td>\n",
       "      <td>8.264695</td>\n",
       "      <td>2200</td>\n",
       "      <td>-0.45</td>\n",
       "      <td>Very Low</td>\n",
       "      <td>Very Low</td>\n",
       "      <td>VH</td>\n",
       "    </tr>\n",
       "    <tr>\n",
       "      <th>3</th>\n",
       "      <td>2007-09-21</td>\n",
       "      <td>10.75</td>\n",
       "      <td>10.75</td>\n",
       "      <td>10.75</td>\n",
       "      <td>10.75</td>\n",
       "      <td>8.584105</td>\n",
       "      <td>500</td>\n",
       "      <td>0.40</td>\n",
       "      <td>Very High</td>\n",
       "      <td>Very High</td>\n",
       "      <td>VL</td>\n",
       "    </tr>\n",
       "    <tr>\n",
       "      <th>4</th>\n",
       "      <td>2007-09-24</td>\n",
       "      <td>10.75</td>\n",
       "      <td>10.75</td>\n",
       "      <td>10.75</td>\n",
       "      <td>10.75</td>\n",
       "      <td>8.584105</td>\n",
       "      <td>0</td>\n",
       "      <td>0.00</td>\n",
       "      <td>Stationary</td>\n",
       "      <td>Stationary</td>\n",
       "      <td>VH</td>\n",
       "    </tr>\n",
       "    <tr>\n",
       "      <th>5</th>\n",
       "      <td>2007-09-25</td>\n",
       "      <td>10.65</td>\n",
       "      <td>10.65</td>\n",
       "      <td>10.65</td>\n",
       "      <td>10.65</td>\n",
       "      <td>8.504252</td>\n",
       "      <td>800</td>\n",
       "      <td>-0.10</td>\n",
       "      <td>Low</td>\n",
       "      <td>Low</td>\n",
       "      <td>S</td>\n",
       "    </tr>\n",
       "  </tbody>\n",
       "</table>\n",
       "</div>"
      ],
      "text/plain": [
       "         Date   Open   High    Low  Close  Adj Close  Volume  \\\n",
       "1  2007-09-19  10.80  10.80  10.80  10.80   8.624030    1000   \n",
       "2  2007-09-20  10.35  10.75  10.35  10.35   8.264695    2200   \n",
       "3  2007-09-21  10.75  10.75  10.75  10.75   8.584105     500   \n",
       "4  2007-09-24  10.75  10.75  10.75  10.75   8.584105       0   \n",
       "5  2007-09-25  10.65  10.65  10.65  10.65   8.504252     800   \n",
       "\n",
       "   Difference Close Difference Close Labels Difference ADJ Close Labels  \\\n",
       "1              0.35               Very High                   Very High   \n",
       "2             -0.45                Very Low                    Very Low   \n",
       "3              0.40               Very High                   Very High   \n",
       "4              0.00              Stationary                  Stationary   \n",
       "5             -0.10                     Low                         Low   \n",
       "\n",
       "  Sequences  \n",
       "1         S  \n",
       "2        VH  \n",
       "3        VL  \n",
       "4        VH  \n",
       "5         S  "
      ]
     },
     "execution_count": 27,
     "metadata": {},
     "output_type": "execute_result"
    }
   ],
   "source": [
    "# Handling the data\n",
    "\n",
    "seq = [None]\n",
    "labels = df['Difference ADJ Close Labels']\n",
    "for i in range(1, len(labels)):\n",
    "    now = get_code(labels[i-1])\n",
    "    seq.append(now)\n",
    "\n",
    "df['Sequences'] = seq\n",
    "one_step_df = df.iloc[1:, :]\n",
    "one_step_df.head()"
   ]
  },
  {
   "cell_type": "code",
   "execution_count": 28,
   "id": "d368e55f",
   "metadata": {},
   "outputs": [
    {
     "data": {
      "text/plain": [
       "0.4265119549929676"
      ]
     },
     "execution_count": 28,
     "metadata": {},
     "output_type": "execute_result"
    }
   ],
   "source": [
    "## Train transitions, Predict and Accuracy of prediction\n",
    "\n",
    "transition_matrix = get_transition_matrix(one_step_df.iloc[:int(0.8*len(one_step_df)),:])\n",
    "predicted = predict(one_step_df.iloc[int(0.2*len(one_step_df)):, :], transition_matrix)\n",
    "one_step_accuracy = metrics.accuracy_score(predicted, list(one_step_df['Difference ADJ Close Labels'][int(0.2*len(one_step_df)):]))\n",
    "one_step_accuracy\n"
   ]
  },
  {
   "cell_type": "markdown",
   "id": "f99aff15",
   "metadata": {},
   "source": [
    "# 2-Steps back Markov Chain"
   ]
  },
  {
   "cell_type": "code",
   "execution_count": 29,
   "id": "d28c37ea",
   "metadata": {},
   "outputs": [
    {
     "data": {
      "text/html": [
       "<div>\n",
       "<style scoped>\n",
       "    .dataframe tbody tr th:only-of-type {\n",
       "        vertical-align: middle;\n",
       "    }\n",
       "\n",
       "    .dataframe tbody tr th {\n",
       "        vertical-align: top;\n",
       "    }\n",
       "\n",
       "    .dataframe thead th {\n",
       "        text-align: right;\n",
       "    }\n",
       "</style>\n",
       "<table border=\"1\" class=\"dataframe\">\n",
       "  <thead>\n",
       "    <tr style=\"text-align: right;\">\n",
       "      <th></th>\n",
       "      <th>Date</th>\n",
       "      <th>Open</th>\n",
       "      <th>High</th>\n",
       "      <th>Low</th>\n",
       "      <th>Close</th>\n",
       "      <th>Adj Close</th>\n",
       "      <th>Volume</th>\n",
       "      <th>Difference Close</th>\n",
       "      <th>Difference Close Labels</th>\n",
       "      <th>Difference ADJ Close Labels</th>\n",
       "      <th>Sequences</th>\n",
       "    </tr>\n",
       "  </thead>\n",
       "  <tbody>\n",
       "    <tr>\n",
       "      <th>2</th>\n",
       "      <td>2007-09-20</td>\n",
       "      <td>10.35</td>\n",
       "      <td>10.75</td>\n",
       "      <td>10.35</td>\n",
       "      <td>10.35</td>\n",
       "      <td>8.264695</td>\n",
       "      <td>2200</td>\n",
       "      <td>-0.45</td>\n",
       "      <td>Very Low</td>\n",
       "      <td>Very Low</td>\n",
       "      <td>S-VH</td>\n",
       "    </tr>\n",
       "    <tr>\n",
       "      <th>3</th>\n",
       "      <td>2007-09-21</td>\n",
       "      <td>10.75</td>\n",
       "      <td>10.75</td>\n",
       "      <td>10.75</td>\n",
       "      <td>10.75</td>\n",
       "      <td>8.584105</td>\n",
       "      <td>500</td>\n",
       "      <td>0.40</td>\n",
       "      <td>Very High</td>\n",
       "      <td>Very High</td>\n",
       "      <td>VH-VL</td>\n",
       "    </tr>\n",
       "    <tr>\n",
       "      <th>4</th>\n",
       "      <td>2007-09-24</td>\n",
       "      <td>10.75</td>\n",
       "      <td>10.75</td>\n",
       "      <td>10.75</td>\n",
       "      <td>10.75</td>\n",
       "      <td>8.584105</td>\n",
       "      <td>0</td>\n",
       "      <td>0.00</td>\n",
       "      <td>Stationary</td>\n",
       "      <td>Stationary</td>\n",
       "      <td>VL-VH</td>\n",
       "    </tr>\n",
       "    <tr>\n",
       "      <th>5</th>\n",
       "      <td>2007-09-25</td>\n",
       "      <td>10.65</td>\n",
       "      <td>10.65</td>\n",
       "      <td>10.65</td>\n",
       "      <td>10.65</td>\n",
       "      <td>8.504252</td>\n",
       "      <td>800</td>\n",
       "      <td>-0.10</td>\n",
       "      <td>Low</td>\n",
       "      <td>Low</td>\n",
       "      <td>VH-S</td>\n",
       "    </tr>\n",
       "    <tr>\n",
       "      <th>6</th>\n",
       "      <td>2007-09-26</td>\n",
       "      <td>10.65</td>\n",
       "      <td>10.65</td>\n",
       "      <td>10.65</td>\n",
       "      <td>10.65</td>\n",
       "      <td>8.504252</td>\n",
       "      <td>0</td>\n",
       "      <td>0.00</td>\n",
       "      <td>Stationary</td>\n",
       "      <td>Stationary</td>\n",
       "      <td>S-L</td>\n",
       "    </tr>\n",
       "  </tbody>\n",
       "</table>\n",
       "</div>"
      ],
      "text/plain": [
       "         Date   Open   High    Low  Close  Adj Close  Volume  \\\n",
       "2  2007-09-20  10.35  10.75  10.35  10.35   8.264695    2200   \n",
       "3  2007-09-21  10.75  10.75  10.75  10.75   8.584105     500   \n",
       "4  2007-09-24  10.75  10.75  10.75  10.75   8.584105       0   \n",
       "5  2007-09-25  10.65  10.65  10.65  10.65   8.504252     800   \n",
       "6  2007-09-26  10.65  10.65  10.65  10.65   8.504252       0   \n",
       "\n",
       "   Difference Close Difference Close Labels Difference ADJ Close Labels  \\\n",
       "2             -0.45                Very Low                    Very Low   \n",
       "3              0.40               Very High                   Very High   \n",
       "4              0.00              Stationary                  Stationary   \n",
       "5             -0.10                     Low                         Low   \n",
       "6              0.00              Stationary                  Stationary   \n",
       "\n",
       "  Sequences  \n",
       "2      S-VH  \n",
       "3     VH-VL  \n",
       "4     VL-VH  \n",
       "5      VH-S  \n",
       "6       S-L  "
      ]
     },
     "execution_count": 29,
     "metadata": {},
     "output_type": "execute_result"
    }
   ],
   "source": [
    "seq = [None, None]\n",
    "labels = df['Difference ADJ Close Labels']\n",
    "for i in range(2, len(labels)):\n",
    "    oneback = get_code(labels[i-2])\n",
    "    now = get_code(labels[i-1])\n",
    "    seq.append(str(oneback +\"-\"+now))\n",
    "\n",
    "df['Sequences'] = seq\n",
    "two_step_df = df.iloc[2:, :]\n",
    "two_step_df.head()"
   ]
  },
  {
   "cell_type": "code",
   "execution_count": 30,
   "id": "d8bef824",
   "metadata": {},
   "outputs": [
    {
     "data": {
      "text/plain": [
       "0.46676046429827645"
      ]
     },
     "execution_count": 30,
     "metadata": {},
     "output_type": "execute_result"
    }
   ],
   "source": [
    "\n",
    "\n",
    "transition_matrix = get_transition_matrix(two_step_df.iloc[:int(0.8*len(two_step_df)),:])\n",
    "predicted = predict(two_step_df.iloc[int(0.2*len(two_step_df)):, :], transition_matrix)\n",
    "two_step_accuracy = metrics.accuracy_score(predicted, list(two_step_df['Difference ADJ Close Labels'][int(0.2*len(two_step_df)):]))\n",
    "two_step_accuracy\n"
   ]
  },
  {
   "cell_type": "markdown",
   "id": "4bcbaa84",
   "metadata": {},
   "source": [
    "# 3-steps back Markov Chain"
   ]
  },
  {
   "cell_type": "code",
   "execution_count": 31,
   "id": "dfc989af",
   "metadata": {},
   "outputs": [
    {
     "data": {
      "text/html": [
       "<div>\n",
       "<style scoped>\n",
       "    .dataframe tbody tr th:only-of-type {\n",
       "        vertical-align: middle;\n",
       "    }\n",
       "\n",
       "    .dataframe tbody tr th {\n",
       "        vertical-align: top;\n",
       "    }\n",
       "\n",
       "    .dataframe thead th {\n",
       "        text-align: right;\n",
       "    }\n",
       "</style>\n",
       "<table border=\"1\" class=\"dataframe\">\n",
       "  <thead>\n",
       "    <tr style=\"text-align: right;\">\n",
       "      <th></th>\n",
       "      <th>Date</th>\n",
       "      <th>Open</th>\n",
       "      <th>High</th>\n",
       "      <th>Low</th>\n",
       "      <th>Close</th>\n",
       "      <th>Adj Close</th>\n",
       "      <th>Volume</th>\n",
       "      <th>Difference Close</th>\n",
       "      <th>Difference Close Labels</th>\n",
       "      <th>Difference ADJ Close Labels</th>\n",
       "      <th>Sequences</th>\n",
       "    </tr>\n",
       "  </thead>\n",
       "  <tbody>\n",
       "    <tr>\n",
       "      <th>3</th>\n",
       "      <td>2007-09-21</td>\n",
       "      <td>10.75</td>\n",
       "      <td>10.75</td>\n",
       "      <td>10.75</td>\n",
       "      <td>10.75</td>\n",
       "      <td>8.584105</td>\n",
       "      <td>500</td>\n",
       "      <td>0.40</td>\n",
       "      <td>Very High</td>\n",
       "      <td>Very High</td>\n",
       "      <td>S-VH-VL</td>\n",
       "    </tr>\n",
       "    <tr>\n",
       "      <th>4</th>\n",
       "      <td>2007-09-24</td>\n",
       "      <td>10.75</td>\n",
       "      <td>10.75</td>\n",
       "      <td>10.75</td>\n",
       "      <td>10.75</td>\n",
       "      <td>8.584105</td>\n",
       "      <td>0</td>\n",
       "      <td>0.00</td>\n",
       "      <td>Stationary</td>\n",
       "      <td>Stationary</td>\n",
       "      <td>VH-VL-VH</td>\n",
       "    </tr>\n",
       "    <tr>\n",
       "      <th>5</th>\n",
       "      <td>2007-09-25</td>\n",
       "      <td>10.65</td>\n",
       "      <td>10.65</td>\n",
       "      <td>10.65</td>\n",
       "      <td>10.65</td>\n",
       "      <td>8.504252</td>\n",
       "      <td>800</td>\n",
       "      <td>-0.10</td>\n",
       "      <td>Low</td>\n",
       "      <td>Low</td>\n",
       "      <td>VL-VH-S</td>\n",
       "    </tr>\n",
       "    <tr>\n",
       "      <th>6</th>\n",
       "      <td>2007-09-26</td>\n",
       "      <td>10.65</td>\n",
       "      <td>10.65</td>\n",
       "      <td>10.65</td>\n",
       "      <td>10.65</td>\n",
       "      <td>8.504252</td>\n",
       "      <td>0</td>\n",
       "      <td>0.00</td>\n",
       "      <td>Stationary</td>\n",
       "      <td>Stationary</td>\n",
       "      <td>VH-S-L</td>\n",
       "    </tr>\n",
       "    <tr>\n",
       "      <th>7</th>\n",
       "      <td>2007-09-27</td>\n",
       "      <td>11.50</td>\n",
       "      <td>11.50</td>\n",
       "      <td>11.50</td>\n",
       "      <td>11.50</td>\n",
       "      <td>9.182996</td>\n",
       "      <td>2400</td>\n",
       "      <td>0.85</td>\n",
       "      <td>Very High</td>\n",
       "      <td>Very High</td>\n",
       "      <td>S-L-S</td>\n",
       "    </tr>\n",
       "  </tbody>\n",
       "</table>\n",
       "</div>"
      ],
      "text/plain": [
       "         Date   Open   High    Low  Close  Adj Close  Volume  \\\n",
       "3  2007-09-21  10.75  10.75  10.75  10.75   8.584105     500   \n",
       "4  2007-09-24  10.75  10.75  10.75  10.75   8.584105       0   \n",
       "5  2007-09-25  10.65  10.65  10.65  10.65   8.504252     800   \n",
       "6  2007-09-26  10.65  10.65  10.65  10.65   8.504252       0   \n",
       "7  2007-09-27  11.50  11.50  11.50  11.50   9.182996    2400   \n",
       "\n",
       "   Difference Close Difference Close Labels Difference ADJ Close Labels  \\\n",
       "3              0.40               Very High                   Very High   \n",
       "4              0.00              Stationary                  Stationary   \n",
       "5             -0.10                     Low                         Low   \n",
       "6              0.00              Stationary                  Stationary   \n",
       "7              0.85               Very High                   Very High   \n",
       "\n",
       "  Sequences  \n",
       "3   S-VH-VL  \n",
       "4  VH-VL-VH  \n",
       "5   VL-VH-S  \n",
       "6    VH-S-L  \n",
       "7     S-L-S  "
      ]
     },
     "execution_count": 31,
     "metadata": {},
     "output_type": "execute_result"
    }
   ],
   "source": [
    "## Adding Sequences to the dataframe\n",
    "\n",
    "seq = [None, None, None]\n",
    "labels = df['Difference ADJ Close Labels']\n",
    "for i in range(3, len(labels)):\n",
    "    twoback = get_code(labels[i-3])\n",
    "    oneback = get_code(labels[i-2])\n",
    "    now = get_code(labels[i-1])\n",
    "    seq.append(str(twoback + \"-\"+ oneback + \"-\"+ now))\n",
    "\n",
    "df['Sequences'] = seq\n",
    "three_step_df = df.iloc[3:, :]\n",
    "three_step_df.head()\n"
   ]
  },
  {
   "cell_type": "code",
   "execution_count": 32,
   "id": "9d238bb7",
   "metadata": {},
   "outputs": [
    {
     "data": {
      "text/plain": [
       "0.4989444053483462"
      ]
     },
     "execution_count": 32,
     "metadata": {},
     "output_type": "execute_result"
    }
   ],
   "source": [
    "## Train__transitions\n",
    "\n",
    "transition_matrix = get_transition_matrix(three_step_df.iloc[:int(0.8*len(three_step_df)),:])\n",
    "predicted = predict(three_step_df.iloc[int(0.2*len(three_step_df)):, :], transition_matrix)\n",
    "three_step_accuracy = metrics.accuracy_score(predicted, list(three_step_df['Difference ADJ Close Labels'][int(0.2*len(three_step_df)):]))\n",
    "three_step_accuracy\n"
   ]
  },
  {
   "cell_type": "markdown",
   "id": "177e2a37",
   "metadata": {},
   "source": [
    "# Four Step Marokv Chain"
   ]
  },
  {
   "cell_type": "code",
   "execution_count": 33,
   "id": "9c1e6459",
   "metadata": {},
   "outputs": [
    {
     "data": {
      "text/html": [
       "<div>\n",
       "<style scoped>\n",
       "    .dataframe tbody tr th:only-of-type {\n",
       "        vertical-align: middle;\n",
       "    }\n",
       "\n",
       "    .dataframe tbody tr th {\n",
       "        vertical-align: top;\n",
       "    }\n",
       "\n",
       "    .dataframe thead th {\n",
       "        text-align: right;\n",
       "    }\n",
       "</style>\n",
       "<table border=\"1\" class=\"dataframe\">\n",
       "  <thead>\n",
       "    <tr style=\"text-align: right;\">\n",
       "      <th></th>\n",
       "      <th>Date</th>\n",
       "      <th>Open</th>\n",
       "      <th>High</th>\n",
       "      <th>Low</th>\n",
       "      <th>Close</th>\n",
       "      <th>Adj Close</th>\n",
       "      <th>Volume</th>\n",
       "      <th>Difference Close</th>\n",
       "      <th>Difference Close Labels</th>\n",
       "      <th>Difference ADJ Close Labels</th>\n",
       "      <th>Sequences</th>\n",
       "    </tr>\n",
       "  </thead>\n",
       "  <tbody>\n",
       "    <tr>\n",
       "      <th>4</th>\n",
       "      <td>2007-09-24</td>\n",
       "      <td>10.75</td>\n",
       "      <td>10.75</td>\n",
       "      <td>10.75</td>\n",
       "      <td>10.75</td>\n",
       "      <td>8.584105</td>\n",
       "      <td>0</td>\n",
       "      <td>0.00</td>\n",
       "      <td>Stationary</td>\n",
       "      <td>Stationary</td>\n",
       "      <td>S-VH-VL-VH</td>\n",
       "    </tr>\n",
       "    <tr>\n",
       "      <th>5</th>\n",
       "      <td>2007-09-25</td>\n",
       "      <td>10.65</td>\n",
       "      <td>10.65</td>\n",
       "      <td>10.65</td>\n",
       "      <td>10.65</td>\n",
       "      <td>8.504252</td>\n",
       "      <td>800</td>\n",
       "      <td>-0.10</td>\n",
       "      <td>Low</td>\n",
       "      <td>Low</td>\n",
       "      <td>VH-VL-VH-S</td>\n",
       "    </tr>\n",
       "    <tr>\n",
       "      <th>6</th>\n",
       "      <td>2007-09-26</td>\n",
       "      <td>10.65</td>\n",
       "      <td>10.65</td>\n",
       "      <td>10.65</td>\n",
       "      <td>10.65</td>\n",
       "      <td>8.504252</td>\n",
       "      <td>0</td>\n",
       "      <td>0.00</td>\n",
       "      <td>Stationary</td>\n",
       "      <td>Stationary</td>\n",
       "      <td>VL-VH-S-L</td>\n",
       "    </tr>\n",
       "    <tr>\n",
       "      <th>7</th>\n",
       "      <td>2007-09-27</td>\n",
       "      <td>11.50</td>\n",
       "      <td>11.50</td>\n",
       "      <td>11.50</td>\n",
       "      <td>11.50</td>\n",
       "      <td>9.182996</td>\n",
       "      <td>2400</td>\n",
       "      <td>0.85</td>\n",
       "      <td>Very High</td>\n",
       "      <td>Very High</td>\n",
       "      <td>VH-S-L-S</td>\n",
       "    </tr>\n",
       "    <tr>\n",
       "      <th>8</th>\n",
       "      <td>2007-09-28</td>\n",
       "      <td>12.35</td>\n",
       "      <td>12.35</td>\n",
       "      <td>11.75</td>\n",
       "      <td>12.35</td>\n",
       "      <td>9.861739</td>\n",
       "      <td>48200</td>\n",
       "      <td>0.85</td>\n",
       "      <td>Very High</td>\n",
       "      <td>Very High</td>\n",
       "      <td>S-L-S-VH</td>\n",
       "    </tr>\n",
       "  </tbody>\n",
       "</table>\n",
       "</div>"
      ],
      "text/plain": [
       "         Date   Open   High    Low  Close  Adj Close  Volume  \\\n",
       "4  2007-09-24  10.75  10.75  10.75  10.75   8.584105       0   \n",
       "5  2007-09-25  10.65  10.65  10.65  10.65   8.504252     800   \n",
       "6  2007-09-26  10.65  10.65  10.65  10.65   8.504252       0   \n",
       "7  2007-09-27  11.50  11.50  11.50  11.50   9.182996    2400   \n",
       "8  2007-09-28  12.35  12.35  11.75  12.35   9.861739   48200   \n",
       "\n",
       "   Difference Close Difference Close Labels Difference ADJ Close Labels  \\\n",
       "4              0.00              Stationary                  Stationary   \n",
       "5             -0.10                     Low                         Low   \n",
       "6              0.00              Stationary                  Stationary   \n",
       "7              0.85               Very High                   Very High   \n",
       "8              0.85               Very High                   Very High   \n",
       "\n",
       "    Sequences  \n",
       "4  S-VH-VL-VH  \n",
       "5  VH-VL-VH-S  \n",
       "6   VL-VH-S-L  \n",
       "7    VH-S-L-S  \n",
       "8    S-L-S-VH  "
      ]
     },
     "execution_count": 33,
     "metadata": {},
     "output_type": "execute_result"
    }
   ],
   "source": [
    "## Adding Sequences to the dataframe\n",
    "\n",
    "seq = [None, None, None, None]\n",
    "labels = df['Difference ADJ Close Labels']\n",
    "for i in range(4, len(labels)):\n",
    "    threeback = get_code(labels[i-4])\n",
    "    twoback = get_code(labels[i-3])\n",
    "    oneback = get_code(labels[i-2])\n",
    "    now = get_code(labels[i-1])\n",
    "    seq.append(str(threeback + \"-\" + twoback + \"-\"+ oneback + \"-\"+ now))\n",
    "\n",
    "df['Sequences'] = seq\n",
    "four_step_df = df.iloc[4:, :]\n",
    "four_step_df.head()\n"
   ]
  },
  {
   "cell_type": "code",
   "execution_count": 34,
   "id": "ef431744",
   "metadata": {},
   "outputs": [
    {
     "data": {
      "text/plain": [
       "0.5564941921858501"
      ]
     },
     "execution_count": 34,
     "metadata": {},
     "output_type": "execute_result"
    }
   ],
   "source": [
    "transition_matrix = get_transition_matrix(four_step_df)\n",
    "predicted = predict(four_step_df.iloc[int(0.2*len(four_step_df)):, :], transition_matrix)\n",
    "four_step_accuracy = metrics.accuracy_score(predicted, list(four_step_df['Difference ADJ Close Labels'][int(0.2*len(four_step_df)):]))\n",
    "four_step_accuracy"
   ]
  },
  {
   "cell_type": "code",
   "execution_count": 35,
   "id": "4c7b2b0a",
   "metadata": {},
   "outputs": [
    {
     "data": {
      "text/plain": [
       "<BarContainer object of 5 artists>"
      ]
     },
     "execution_count": 35,
     "metadata": {},
     "output_type": "execute_result"
    },
    {
     "data": {
      "image/png": "[encoded data removed]",
      "text/plain": [
       "<Figure size 432x288 with 1 Axes>"
      ]
     },
     "metadata": {
      "needs_background": "light"
     },
     "output_type": "display_data"
    }
   ],
   "source": [
    "accuracies = [one_step_accuracy, two_step_accuracy, three_step_accuracy, four_step_accuracy, linear_transformed_acc]\n",
    "names = ['One Step', 'Two Step', 'Three Step', 'Four Step', 'Regression']\n",
    "plt.bar(names, accuracies)"
   ]
  },
  {
   "cell_type": "code",
   "execution_count": null,
   "id": "1e284260",
   "metadata": {},
   "outputs": [],
   "source": []
  }
 ],
 "metadata": {
  "kernelspec": {
   "display_name": "Python 3",
   "language": "python",
   "name": "python3"
  },
  "language_info": {
   "codemirror_mode": {
    "name": "ipython",
    "version": 3
   },
   "file_extension": ".py",
   "mimetype": "text/x-python",
   "name": "python",
   "nbconvert_exporter": "python",
   "pygments_lexer": "ipython3",
   "version": "3.9.7"
  },
  "vscode": {
   "interpreter": {
    "hash": "4df2cc69eb3fd56a8a9780b07025dcfa15673fb6f5e64f079d5772d6ef5f08ae"
   }
  }
 },
 "nbformat": 4,
 "nbformat_minor": 5
}
